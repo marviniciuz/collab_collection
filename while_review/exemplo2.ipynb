{
  "cells": [
    {
      "cell_type": "code",
      "execution_count": null,
      "metadata": {
        "id": "KMcUWCeYzpLk"
      },
      "outputs": [],
      "source": [
        "enter = 1\n",
        "\n",
        "while enter < 10:\n",
        "  print(\"clique aqui\")\n",
        "  enter += 1"
      ]
    },
    {
      "cell_type": "code",
      "execution_count": null,
      "metadata": {
        "id": "wIlUxAkm01tR"
      },
      "outputs": [],
      "source": [
        "hello = 1\n",
        "\n",
        "while hello < 100:\n",
        "  print(\"ola mundo, sextou\")\n",
        "  hello = hello + 10"
      ]
    },
    {
      "cell_type": "code",
      "execution_count": null,
      "metadata": {
        "id": "zOqpw1IC1KFB"
      },
      "outputs": [],
      "source": [
        "i = 1\n",
        "cascata = 0\n",
        "\n",
        "while i <= 10:\n",
        "  cascata = cascata + 10\n",
        "  print(\"cascata = \",cascata)\n",
        "  i += 1"
      ]
    },
    {
      "cell_type": "code",
      "execution_count": null,
      "metadata": {
        "id": "pfm7LgUY_LU6"
      },
      "outputs": [],
      "source": [
        "i = 1\n",
        "\n",
        "L = int(input(\"digite um numero inteito\"))\n",
        "\n",
        "while i < 10:\n",
        "  if L == 0:\n",
        "     L = int(input(\"digite um numero inteito\"))\n",
        "  else:\n",
        "    L = L + 2\n",
        "    i = i + 1\n",
        "    print(L)"
      ]
    },
    {
      "cell_type": "code",
      "execution_count": null,
      "metadata": {
        "id": "o5qJXl_-FgmE"
      },
      "outputs": [],
      "source": [
        "i = 0\n",
        "L = L = int(input(\"digite um valor > 100\"))\n",
        "\n",
        "while i <= 10:\n",
        "  J = 1\n",
        "  if L <= 100:\n",
        "    L = L = int(input(\"digite um valor > 100\"))\n",
        "  else:\n",
        "    L = L - J\n",
        "    i = i + 1\n",
        "    print(L)"
      ]
    }
  ],
  "metadata": {
    "colab": {
      "provenance": []
    },
    "kernelspec": {
      "display_name": "Python 3",
      "name": "python3"
    },
    "language_info": {
      "name": "python"
    }
  },
  "nbformat": 4,
  "nbformat_minor": 0
}
