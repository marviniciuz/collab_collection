{
  "nbformat": 4,
  "nbformat_minor": 0,
  "metadata": {
    "colab": {
      "provenance": []
    },
    "kernelspec": {
      "name": "python3",
      "display_name": "Python 3"
    },
    "language_info": {
      "name": "python"
    }
  },
  "cells": [
    {
      "cell_type": "code",
      "source": [
        "start = 0\n",
        "\n",
        "while start <= 10:\n",
        "  print(start)\n",
        "  start = start + 1"
      ],
      "metadata": {
        "id": "i5s6avNRFzxI"
      },
      "execution_count": null,
      "outputs": []
    },
    {
      "cell_type": "code",
      "source": [
        "start = 10\n",
        "\n",
        "while start > 1:\n",
        "  print(start)\n",
        "  start = start - 1"
      ],
      "metadata": {
        "id": "_qKoIJp6Gt8c"
      },
      "execution_count": null,
      "outputs": []
    },
    {
      "cell_type": "code",
      "source": [
        "start = 1\n",
        "\n",
        "while start <= 100:\n",
        "  print(start)\n",
        "  start = start + 1"
      ],
      "metadata": {
        "id": "4oeGqfzYIKNJ"
      },
      "execution_count": null,
      "outputs": []
    },
    {
      "cell_type": "code",
      "source": [
        "start = 100\n",
        "\n",
        "while start > 1:\n",
        "  print(start)\n",
        "  start = start - 1"
      ],
      "metadata": {
        "id": "BUtBI7tOLD6K"
      },
      "execution_count": null,
      "outputs": []
    },
    {
      "cell_type": "code",
      "source": [
        "orange = 1\n",
        "\n",
        "while orange <= 10:\n",
        "  print(orange)\n",
        "  orange += 1\n"
      ],
      "metadata": {
        "id": "m7Lrl00eL39h"
      },
      "execution_count": null,
      "outputs": []
    },
    {
      "cell_type": "code",
      "source": [
        "numbers = [0,1,2,3,4,5,6,7,8,9,10]\n",
        "\n",
        "while len(numbers) > 0:\n",
        "  print(numbers[-1])\n",
        "  numbers.remove(numbers [-1])\n"
      ],
      "metadata": {
        "id": "2fsvezZOOJvg"
      },
      "execution_count": null,
      "outputs": []
    },
    {
      "cell_type": "code",
      "source": [
        "start = 100\n",
        "\n",
        "while start > 1:\n",
        "  print(start)\n",
        "  start = start - 1"
      ],
      "metadata": {
        "id": "LgS9EmD7PK73"
      },
      "execution_count": null,
      "outputs": []
    }
  ]
}