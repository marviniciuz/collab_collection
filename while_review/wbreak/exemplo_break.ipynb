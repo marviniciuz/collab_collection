{
  "cells": [
    {
      "cell_type": "code",
      "execution_count": null,
      "metadata": {
        "id": "Bcj_WuWsKAN0"
      },
      "outputs": [],
      "source": [
        "i = 1\n",
        "\n",
        "while i < 10:\n",
        "  print(i)\n",
        "  if i == 5:\n",
        "    break\n",
        "  i += 1"
      ]
    },
    {
      "cell_type": "code",
      "execution_count": null,
      "metadata": {
        "id": "jPzrRD-vKbpM"
      },
      "outputs": [],
      "source": [
        "contador = 1\n",
        "\n",
        "while contador <= 100:\n",
        "  print(contador)\n",
        "  if contador == 50:\n",
        "    print(\"parei de contar\")\n",
        "    break\n",
        "  contador += 1\n"
      ]
    },
    {
      "cell_type": "code",
      "execution_count": null,
      "metadata": {
        "id": "4uMGoDbQNQZs"
      },
      "outputs": [],
      "source": []
    }
  ],
  "metadata": {
    "colab": {
      "provenance": []
    },
    "kernelspec": {
      "display_name": "Python 3",
      "name": "python3"
    },
    "language_info": {
      "name": "python"
    }
  },
  "nbformat": 4,
  "nbformat_minor": 0
}
